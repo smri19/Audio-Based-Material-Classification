{
  "nbformat": 4,
  "nbformat_minor": 0,
  "metadata": {
    "colab": {
      "provenance": []
    },
    "kernelspec": {
      "name": "python3",
      "display_name": "Python 3"
    },
    "language_info": {
      "name": "python"
    }
  },
  "cells": [
    {
      "cell_type": "code",
      "execution_count": 1,
      "metadata": {
        "colab": {
          "base_uri": "https://localhost:8080/"
        },
        "id": "w_3MfRmEY42x",
        "outputId": "2865b7a7-49b4-4abf-ae1f-67613e86e292"
      },
      "outputs": [
        {
          "output_type": "stream",
          "name": "stdout",
          "text": [
            "Mounted at /content/drive\n"
          ]
        }
      ],
      "source": [
        "from google.colab import drive\n",
        "drive.mount('/content/drive')"
      ]
    },
    {
      "cell_type": "code",
      "source": [
        "import cv2\n",
        "import numpy as np\n",
        "import librosa\n",
        "\n",
        "def solution(audio_path):\n",
        "    y, sr = librosa.load(audio_path, sr=None)\n",
        "    n_fft = 2048\n",
        "    hop_length = 512\n",
        "    spec = librosa.feature.melspectrogram(y=y, sr=sr, n_fft=n_fft, hop_length=hop_length, fmax=22000)\n",
        "    # spec_db = librosa.power_to_db(spec, ref=np.max)\n",
        "    spec_db = 10 * np.log10(spec.astype(float) + 1e-10)\n",
        "\n",
        "    #Obtaining spectrogram\n",
        "    spectrogram = np.abs(librosa.stft(y, n_fft=n_fft, hop_length=hop_length))\n",
        "\n",
        "    #Relevant features from the spectrogram helping distinguish between metal and cardboard\n",
        "    mean_energy = np.mean(spectrogram)\n",
        "    max_energy = np.max(spectrogram)\n",
        "    spectral_centroid = librosa.feature.spectral_centroid(y = y, sr = sr, n_fft = 2048, hop_length = 512)[0]\n",
        "    spectral_centroid_mean = np.mean(spectral_centroid)\n",
        "\n",
        "    #Defining thresholds based on analysis\n",
        "    mean_energy_threshold = 0.7\n",
        "    max_energy_threshold = 90.0\n",
        "    sc_mean_threshold = 4000.0\n",
        "\n",
        "    #Decision Making\n",
        "    x1 = int(mean_energy > mean_energy_threshold)\n",
        "    x2 = int(max_energy > max_energy_threshold)\n",
        "    x3 = int(spectral_centroid_mean < sc_mean_threshold)\n",
        "    if x1 + x2 + x3 >= 2:\n",
        "      return 'metal'\n",
        "    else:\n",
        "      return 'cardboard'"
      ],
      "metadata": {
        "id": "bNtuYJ7mY5ir"
      },
      "execution_count": 2,
      "outputs": []
    },
    {
      "cell_type": "code",
      "source": [
        "audio_path = '/content/drive/My Drive/Assignment 1/Assignment 1/Q2/test/cardboard1.mp3'\n",
        "solution(audio_path)"
      ],
      "metadata": {
        "colab": {
          "base_uri": "https://localhost:8080/",
          "height": 36
        },
        "id": "Gq0CsX1eY5tF",
        "outputId": "14354283-322e-4d1e-b328-5922c0bdc5d7"
      },
      "execution_count": 6,
      "outputs": [
        {
          "output_type": "execute_result",
          "data": {
            "text/plain": [
              "'cardboard'"
            ],
            "application/vnd.google.colaboratory.intrinsic+json": {
              "type": "string"
            }
          },
          "metadata": {},
          "execution_count": 6
        }
      ]
    },
    {
      "cell_type": "code",
      "source": [
        "audio_path = '/content/drive/My Drive/Assignment 1/Assignment 1/Q2/test/cardboard2.mp3'\n",
        "solution(audio_path)"
      ],
      "metadata": {
        "colab": {
          "base_uri": "https://localhost:8080/",
          "height": 36
        },
        "id": "jZFqMYPYZvnz",
        "outputId": "becf4872-3e78-4160-ad03-a6a69da0c419"
      },
      "execution_count": 7,
      "outputs": [
        {
          "output_type": "execute_result",
          "data": {
            "text/plain": [
              "'cardboard'"
            ],
            "application/vnd.google.colaboratory.intrinsic+json": {
              "type": "string"
            }
          },
          "metadata": {},
          "execution_count": 7
        }
      ]
    },
    {
      "cell_type": "code",
      "source": [
        "audio_path = '/content/drive/My Drive/Assignment 1/Assignment 1/Q2/test/metal_banging1.mp3'\n",
        "solution(audio_path)"
      ],
      "metadata": {
        "colab": {
          "base_uri": "https://localhost:8080/",
          "height": 36
        },
        "id": "DuAhBqZdaAHN",
        "outputId": "6b596998-f5cb-4b8f-98c7-9a7fb76d75f8"
      },
      "execution_count": 8,
      "outputs": [
        {
          "output_type": "execute_result",
          "data": {
            "text/plain": [
              "'metal'"
            ],
            "application/vnd.google.colaboratory.intrinsic+json": {
              "type": "string"
            }
          },
          "metadata": {},
          "execution_count": 8
        }
      ]
    },
    {
      "cell_type": "code",
      "source": [
        "audio_path = '/content/drive/My Drive/Assignment 1/Assignment 1/Q2/test/metal_banging2.mp3'\n",
        "solution(audio_path)"
      ],
      "metadata": {
        "colab": {
          "base_uri": "https://localhost:8080/",
          "height": 36
        },
        "id": "-O1pj9Z2aCzt",
        "outputId": "3888cef3-9168-4136-e0ad-6aa2a928c628"
      },
      "execution_count": 9,
      "outputs": [
        {
          "output_type": "execute_result",
          "data": {
            "text/plain": [
              "'metal'"
            ],
            "application/vnd.google.colaboratory.intrinsic+json": {
              "type": "string"
            }
          },
          "metadata": {},
          "execution_count": 9
        }
      ]
    }
  ]
}